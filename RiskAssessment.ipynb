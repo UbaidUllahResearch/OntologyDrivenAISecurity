{
  "nbformat": 4,
  "nbformat_minor": 0,
  "metadata": {
    "colab": {
      "provenance": []
    },
    "kernelspec": {
      "name": "python3",
      "display_name": "Python 3"
    },
    "language_info": {
      "name": "python"
    }
  },
  "cells": [
    {
      "cell_type": "code",
      "execution_count": null,
      "metadata": {
        "colab": {
          "base_uri": "https://localhost:8080/"
        },
        "id": "XaIhTa41CseN",
        "outputId": "f0414876-7d1b-4268-8cfa-ce10d5ca5b01"
      },
      "outputs": [
        {
          "output_type": "stream",
          "name": "stdout",
          "text": [
            "Enter Likelihood (1 for Low, 2 for Medium, 3 for High): 3\n",
            "Enter Impact (1 for Low, 2 for Medium, 3 for High): 3\n",
            "The calculated risk is: 9\n",
            "Severity Level: High\n",
            "Do you want to calculate another risk? (yes/no): yes\n",
            "Enter Likelihood (1 for Low, 2 for Medium, 3 for High): 1\n",
            "Enter Impact (1 for Low, 2 for Medium, 3 for High): 3\n",
            "The calculated risk is: 3\n",
            "Severity Level: Medium\n",
            "Do you want to calculate another risk? (yes/no): yes\n",
            "Enter Likelihood (1 for Low, 2 for Medium, 3 for High): 2\n",
            "Enter Impact (1 for Low, 2 for Medium, 3 for High): 2\n",
            "The calculated risk is: 4\n",
            "Severity Level: Medium\n",
            "Do you want to calculate another risk? (yes/no): no\n",
            "Exiting the program.\n"
          ]
        }
      ],
      "source": [
        "#RiskAssessment\n",
        "def calculate_risk(likelihood, impact):\n",
        "    # Risk Calculation\n",
        "    risk = likelihood * impact\n",
        "    return risk\n",
        "\n",
        "def get_severity_level(risk):\n",
        "    if risk <= 2:\n",
        "        return \"Low\"\n",
        "    elif 3 <= risk <= 6:\n",
        "        return \"Medium\"\n",
        "    elif 7 <= risk <= 9:\n",
        "        return \"High\"\n",
        "    else:\n",
        "        return \"Unknown\"\n",
        "\n",
        "def main():\n",
        "    while True:\n",
        "        try:\n",
        "            likelihood = int(input(\"Enter Likelihood (1 for Low, 2 for Medium, 3 for High): \").strip())\n",
        "            impact = int(input(\"Enter Impact (1 for Low, 2 for Medium, 3 for High): \").strip())\n",
        "\n",
        "            if likelihood not in [1, 2, 3] or impact not in [1, 2, 3]:\n",
        "                print(\"Invalid input. Likelihood and Impact must be 1, 2, or 3.\")\n",
        "                continue\n",
        "\n",
        "            # Calculate and display Risk\n",
        "            risk = calculate_risk(likelihood, impact)\n",
        "            severity_level = get_severity_level(risk)\n",
        "            print(f'The calculated risk is: {risk}')\n",
        "            print(f'Severity Level: {severity_level}')\n",
        "\n",
        "        except ValueError:\n",
        "            print(\"Invalid input. Please enter numerical values.\")\n",
        "            continue\n",
        "\n",
        "        # If the user wants to calculate another risk\n",
        "        another = input(\"Calculate another risk? (yes/no): \").strip().lower()\n",
        "        if another != 'yes':\n",
        "            print(\"Exit the program.\")\n",
        "            break\n",
        "\n",
        "if __name__ == \"__main__\":\n",
        "    main()\n"
      ]
    }
  ]
}